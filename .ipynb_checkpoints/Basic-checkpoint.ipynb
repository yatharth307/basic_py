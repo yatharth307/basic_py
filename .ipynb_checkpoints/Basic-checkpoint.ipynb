{
 "cells": [
  {
   "cell_type": "markdown",
   "id": "5fc19984",
   "metadata": {},
   "source": [
    "# This is my first program"
   ]
  },
  {
   "cell_type": "code",
   "execution_count": 1,
   "id": "709d9252",
   "metadata": {},
   "outputs": [
    {
     "name": "stdout",
     "output_type": "stream",
     "text": [
      "Hello Python\n"
     ]
    }
   ],
   "source": [
    "print(\"Hello Python\")"
   ]
  },
  {
   "cell_type": "markdown",
   "id": "9c5432aa",
   "metadata": {},
   "source": [
    "* you can use (#, \"\"\"3 times double quotation\"\"\") for comment them."
   ]
  },
  {
   "cell_type": "markdown",
   "id": "67d48379",
   "metadata": {},
   "source": [
    "# Variable \n"
   ]
  },
  {
   "cell_type": "markdown",
   "id": "8a291114",
   "metadata": {},
   "source": [
    "* variable name must start with a letter or the underscore, it cannot start with a number."
   ]
  },
  {
   "cell_type": "code",
   "execution_count": 2,
   "id": "b1fff8eb",
   "metadata": {},
   "outputs": [],
   "source": [
    "age = 11\n",
    "_height = 175"
   ]
  },
  {
   "cell_type": "code",
   "execution_count": 3,
   "id": "0d8093c9",
   "metadata": {},
   "outputs": [
    {
     "data": {
      "text/plain": [
       "11"
      ]
     },
     "execution_count": 3,
     "metadata": {},
     "output_type": "execute_result"
    }
   ],
   "source": [
    "age"
   ]
  },
  {
   "cell_type": "code",
   "execution_count": 4,
   "id": "0b131240",
   "metadata": {},
   "outputs": [
    {
     "data": {
      "text/plain": [
       "175"
      ]
     },
     "execution_count": 4,
     "metadata": {},
     "output_type": "execute_result"
    }
   ],
   "source": [
    "_height"
   ]
  },
  {
   "cell_type": "code",
   "execution_count": 5,
   "id": "5276c05e",
   "metadata": {},
   "outputs": [
    {
     "ename": "SyntaxError",
     "evalue": "invalid decimal literal (2435277620.py, line 1)",
     "output_type": "error",
     "traceback": [
      "\u001b[1;36m  Cell \u001b[1;32mIn[5], line 1\u001b[1;36m\u001b[0m\n\u001b[1;33m    2myname = \"john\"  # SyntaxError: invalid syntax\u001b[0m\n\u001b[1;37m    ^\u001b[0m\n\u001b[1;31mSyntaxError\u001b[0m\u001b[1;31m:\u001b[0m invalid decimal literal\n"
     ]
    }
   ],
   "source": [
    "# 2myname = \"john\"  # It gives syntax error"
   ]
  },
  {
   "cell_type": "code",
   "execution_count": 6,
   "id": "d1ca5366",
   "metadata": {},
   "outputs": [],
   "source": [
    "x = 4\n",
    "y = \"Yash\""
   ]
  },
  {
   "cell_type": "code",
   "execution_count": 7,
   "id": "7fdafee5",
   "metadata": {},
   "outputs": [
    {
     "name": "stdout",
     "output_type": "stream",
     "text": [
      "4\n"
     ]
    }
   ],
   "source": [
    "print(x)"
   ]
  },
  {
   "cell_type": "code",
   "execution_count": 8,
   "id": "efa869e2",
   "metadata": {},
   "outputs": [
    {
     "name": "stdout",
     "output_type": "stream",
     "text": [
      "Yash\n"
     ]
    }
   ],
   "source": [
    "print(y)"
   ]
  },
  {
   "cell_type": "code",
   "execution_count": 9,
   "id": "800a57d3",
   "metadata": {},
   "outputs": [
    {
     "ename": "TypeError",
     "evalue": "unsupported operand type(s) for +: 'int' and 'str'",
     "output_type": "error",
     "traceback": [
      "\u001b[1;31m---------------------------------------------------------------------------\u001b[0m",
      "\u001b[1;31mTypeError\u001b[0m                                 Traceback (most recent call last)",
      "Cell \u001b[1;32mIn[9], line 1\u001b[0m\n\u001b[1;32m----> 1\u001b[0m \u001b[38;5;28mprint\u001b[39m(\u001b[43mx\u001b[49m\u001b[43m \u001b[49m\u001b[38;5;241;43m+\u001b[39;49m\u001b[43m \u001b[49m\u001b[43my\u001b[49m)\n",
      "\u001b[1;31mTypeError\u001b[0m: unsupported operand type(s) for +: 'int' and 'str'"
     ]
    }
   ],
   "source": [
    "print(x + y)  # Type error"
   ]
  },
  {
   "cell_type": "markdown",
   "id": "c6c53b24",
   "metadata": {},
   "source": [
    "## Assign maltiple values to defferent variables"
   ]
  },
  {
   "cell_type": "code",
   "execution_count": 26,
   "id": "1a1125cb",
   "metadata": {},
   "outputs": [
    {
     "name": "stdout",
     "output_type": "stream",
     "text": [
      "Orange\n",
      "Banana\n",
      "Cherry\n"
     ]
    }
   ],
   "source": [
    "x, y, z = \"Orange\", \"Banana\", \"Cherry\"\n",
    "print(x)\n",
    "print(y)\n",
    "print(z)"
   ]
  },
  {
   "cell_type": "raw",
   "id": "f8cf2887",
   "metadata": {},
   "source": [
    "You can also give one value for multiple variable"
   ]
  },
  {
   "cell_type": "code",
   "execution_count": 27,
   "id": "dd7cfb14",
   "metadata": {},
   "outputs": [
    {
     "name": "stdout",
     "output_type": "stream",
     "text": [
      "Orange\n",
      "Orange\n",
      "Orange\n"
     ]
    }
   ],
   "source": [
    "x = y = z = \"Orange\"\n",
    "print(x)\n",
    "print(y)\n",
    "print(z)"
   ]
  },
  {
   "cell_type": "code",
   "execution_count": 28,
   "id": "274d734c",
   "metadata": {},
   "outputs": [
    {
     "name": "stdout",
     "output_type": "stream",
     "text": [
      "apple\n",
      "banana\n",
      "cherry\n"
     ]
    }
   ],
   "source": [
    "fruits = [\"apple\", \"banana\", \"cherry\"]\n",
    "x, y, z = fruits\n",
    "print(x)\n",
    "print(y)\n",
    "print(z)"
   ]
  },
  {
   "cell_type": "code",
   "execution_count": null,
   "id": "057eef4c",
   "metadata": {},
   "outputs": [],
   "source": []
  },
  {
   "cell_type": "raw",
   "id": "20c22e38",
   "metadata": {},
   "source": [
    "use \"global\" keyword to define global variable inside a function."
   ]
  },
  {
   "cell_type": "code",
   "execution_count": 29,
   "id": "b8571aff",
   "metadata": {},
   "outputs": [
    {
     "data": {
      "text/plain": [
       "'python is amazing'"
      ]
     },
     "execution_count": 29,
     "metadata": {},
     "output_type": "execute_result"
    }
   ],
   "source": [
    "def my_func():\n",
    "    global x\n",
    "    x= \"amazing\"\n",
    "my_func()\n",
    "\"python is \" + x"
   ]
  },
  {
   "cell_type": "raw",
   "id": "912b60ee",
   "metadata": {},
   "source": [
    "you can also assign \"global\" variable outside the funcation and use it."
   ]
  },
  {
   "cell_type": "code",
   "execution_count": 31,
   "id": "4b67794c",
   "metadata": {},
   "outputs": [
    {
     "name": "stdout",
     "output_type": "stream",
     "text": [
      "Python is awesome\n",
      "GOT is awesome\n"
     ]
    }
   ],
   "source": [
    "x = \"awesome\"\n",
    "\n",
    "def my_fun():\n",
    "    print(\"Python is \" + x )\n",
    "    \n",
    "my_fun()\n",
    "\n",
    "print(\"GOT is \" + x)"
   ]
  },
  {
   "cell_type": "markdown",
   "id": "fa965208",
   "metadata": {},
   "source": [
    "## Data Types "
   ]
  },
  {
   "cell_type": "raw",
   "id": "06c21c54",
   "metadata": {},
   "source": [
    "Text Type:\tstr\n",
    "Numeric Types:\tint, float, complex\n",
    "Sequence Types:\tlist, tuple, range\n",
    "Mapping Type:\tdict\n",
    "Set Types:\tset, frozenset\n",
    "Boolean Type:\tbool\n",
    "Binary Types:\tbytes, bytearray, memoryview"
   ]
  },
  {
   "cell_type": "code",
   "execution_count": 32,
   "id": "87a30aef",
   "metadata": {},
   "outputs": [],
   "source": [
    "a = {\"name\" : \"Jimmy\", \"age\" : 35}  # Dict\n",
    "b = {\"apple\", \"banana\", \"cherry\"}   # set\n",
    "c = frozenset({\"apple\", \"banana\", \"cherry\"})  # frozenset"
   ]
  },
  {
   "cell_type": "code",
   "execution_count": 33,
   "id": "e1e2d0bd",
   "metadata": {},
   "outputs": [
    {
     "name": "stdout",
     "output_type": "stream",
     "text": [
      "{'name': 'Jimmy', 'age': 35}\n"
     ]
    }
   ],
   "source": [
    "print(a)"
   ]
  },
  {
   "cell_type": "code",
   "execution_count": 34,
   "id": "43568226",
   "metadata": {},
   "outputs": [],
   "source": [
    "d = list((\"apple\",\"banana\",\"cherry\"))\n",
    "e = dict(name=\"john\",age =37)"
   ]
  },
  {
   "cell_type": "code",
   "execution_count": 35,
   "id": "edb94ea8",
   "metadata": {},
   "outputs": [
    {
     "data": {
      "text/plain": [
       "{'name': 'john', 'age': 37}"
      ]
     },
     "execution_count": 35,
     "metadata": {},
     "output_type": "execute_result"
    }
   ],
   "source": [
    "e"
   ]
  },
  {
   "cell_type": "code",
   "execution_count": 36,
   "id": "7004a098",
   "metadata": {},
   "outputs": [
    {
     "name": "stdout",
     "output_type": "stream",
     "text": [
      "44\n"
     ]
    }
   ],
   "source": [
    "# Generating random number b/w 1,50\n",
    "import random \n",
    "print(random.randint(1,50))"
   ]
  },
  {
   "cell_type": "code",
   "execution_count": null,
   "id": "11595718",
   "metadata": {},
   "outputs": [],
   "source": []
  },
  {
   "cell_type": "markdown",
   "id": "3a255289",
   "metadata": {},
   "source": [
    "## Type Casting"
   ]
  },
  {
   "cell_type": "code",
   "execution_count": null,
   "id": "43e18bcb",
   "metadata": {},
   "outputs": [],
   "source": [
    "f = int(2.8) # f = 2\n",
    "g = int(\"3\") # g = 3\n",
    "h = float(1) # h = 1.0\n",
    "i = str(\"2.0\") # i = \"2.0\""
   ]
  },
  {
   "cell_type": "code",
   "execution_count": null,
   "id": "5efbe9c9",
   "metadata": {},
   "outputs": [],
   "source": [
    "# you can change and know the data type using \n",
    "print(type())\n",
    "print(int(3.0))"
   ]
  },
  {
   "cell_type": "markdown",
   "id": "808da558",
   "metadata": {},
   "source": [
    "# Strings"
   ]
  },
  {
   "cell_type": "raw",
   "id": "16578950",
   "metadata": {},
   "source": [
    "Strings are arrays.\n",
    "python does not have a char type, every character is simply a string of length 1."
   ]
  },
  {
   "cell_type": "code",
   "execution_count": 10,
   "id": "e1cdf9ac",
   "metadata": {},
   "outputs": [
    {
     "name": "stdout",
     "output_type": "stream",
     "text": [
      "Hii\n",
      "Gorss Gott\n"
     ]
    }
   ],
   "source": [
    "# you can also use print() \n",
    "print('Hii')\n",
    "print(\"Gorss Gott\")"
   ]
  },
  {
   "cell_type": "code",
   "execution_count": 11,
   "id": "72bb25d2",
   "metadata": {},
   "outputs": [
    {
     "name": "stdout",
     "output_type": "stream",
     "text": [
      "h\n"
     ]
    }
   ],
   "source": [
    "my_str = \"python is fun\"\n",
    "print(my_str[3])"
   ]
  },
  {
   "cell_type": "raw",
   "id": "9ab65b8e",
   "metadata": {},
   "source": [
    "string slices must be integers."
   ]
  },
  {
   "cell_type": "markdown",
   "id": "26ccce46",
   "metadata": {},
   "source": [
    "# Slicing"
   ]
  },
  {
   "cell_type": "code",
   "execution_count": 12,
   "id": "941b0b74",
   "metadata": {},
   "outputs": [
    {
     "name": "stdout",
     "output_type": "stream",
     "text": [
      "thon \n"
     ]
    }
   ],
   "source": [
    "print(my_str[2:7]) # last index not included and negetive indexing also possible."
   ]
  },
  {
   "cell_type": "markdown",
   "id": "20b0f772",
   "metadata": {},
   "source": [
    "### String methods\n",
    "reference https://www.w3schools.com/python/python_ref_string.asp"
   ]
  },
  {
   "cell_type": "markdown",
   "id": "6e81a53c",
   "metadata": {},
   "source": [
    "###  upper"
   ]
  },
  {
   "cell_type": "code",
   "execution_count": 13,
   "id": "f2c62735",
   "metadata": {},
   "outputs": [
    {
     "name": "stdout",
     "output_type": "stream",
     "text": [
      "HELLO, PYTHON\n"
     ]
    }
   ],
   "source": [
    "a = \"Hello, Python\"\n",
    "print(a.upper())"
   ]
  },
  {
   "cell_type": "markdown",
   "id": "89b2a702",
   "metadata": {},
   "source": [
    "### lower"
   ]
  },
  {
   "cell_type": "code",
   "execution_count": 14,
   "id": "59cd94be",
   "metadata": {},
   "outputs": [
    {
     "name": "stdout",
     "output_type": "stream",
     "text": [
      "hello, python\n"
     ]
    }
   ],
   "source": [
    "print(a.lower())"
   ]
  },
  {
   "cell_type": "markdown",
   "id": "fd071487",
   "metadata": {},
   "source": [
    "### strip"
   ]
  },
  {
   "cell_type": "code",
   "execution_count": 16,
   "id": "942ca80b",
   "metadata": {},
   "outputs": [
    {
     "name": "stdout",
     "output_type": "stream",
     "text": [
      "hello\n"
     ]
    }
   ],
   "source": [
    "print(\" hello \".strip())  # it removes all white space"
   ]
  },
  {
   "cell_type": "markdown",
   "id": "ce824a58",
   "metadata": {},
   "source": [
    "### replace"
   ]
  },
  {
   "cell_type": "code",
   "execution_count": 17,
   "id": "7ade23b4",
   "metadata": {},
   "outputs": [
    {
     "name": "stdout",
     "output_type": "stream",
     "text": [
      "jello\n"
     ]
    }
   ],
   "source": [
    "print(\"hello\".replace(\"h\",\"j\"))"
   ]
  },
  {
   "cell_type": "markdown",
   "id": "9e98c8af",
   "metadata": {},
   "source": [
    "### split"
   ]
  },
  {
   "cell_type": "raw",
   "id": "3f9e7f1c",
   "metadata": {},
   "source": [
    "The split() method returns a list where the text between the specified separator becomes the list items"
   ]
  },
  {
   "cell_type": "code",
   "execution_count": 18,
   "id": "75280b22",
   "metadata": {},
   "outputs": [
    {
     "name": "stdout",
     "output_type": "stream",
     "text": [
      "['Hello', ' world!']\n"
     ]
    }
   ],
   "source": [
    "a = \"Hello, world!\"\n",
    "print(a.split(\",\"))"
   ]
  },
  {
   "cell_type": "code",
   "execution_count": 19,
   "id": "c2b31892",
   "metadata": {},
   "outputs": [
    {
     "name": "stdout",
     "output_type": "stream",
     "text": [
      "['Hello,', 'world!']\n"
     ]
    }
   ],
   "source": [
    "print(a.split(\" \"))"
   ]
  },
  {
   "cell_type": "markdown",
   "id": "aa934433",
   "metadata": {},
   "source": [
    "## Checking string"
   ]
  },
  {
   "cell_type": "code",
   "execution_count": 21,
   "id": "2a30609c",
   "metadata": {},
   "outputs": [
    {
     "name": "stdout",
     "output_type": "stream",
     "text": [
      "True\n",
      "it is amazing series\n"
     ]
    }
   ],
   "source": [
    "text = \"Game of throns is very big series\"\n",
    "print(\"very\" in text)  # you can also give variable for check and than print and it also boolean and whitespace sensitive\n",
    "if \"Game\" in text : print(\"it is amazing series\")"
   ]
  },
  {
   "cell_type": "markdown",
   "id": "5bafb0f9",
   "metadata": {},
   "source": [
    "## Concatenation"
   ]
  },
  {
   "cell_type": "code",
   "execution_count": 22,
   "id": "696352e1",
   "metadata": {},
   "outputs": [
    {
     "name": "stdout",
     "output_type": "stream",
     "text": [
      "Hello, world!i am Yatharth\n"
     ]
    }
   ],
   "source": [
    "print(a + \"i am Yatharth\")"
   ]
  },
  {
   "cell_type": "markdown",
   "id": "bc6a63ad",
   "metadata": {},
   "source": [
    "## String formating"
   ]
  },
  {
   "cell_type": "raw",
   "id": "76ebe79a",
   "metadata": {},
   "source": [
    "The format() string method takes the passed arguments, formats them, and places them in the string where the placeholders {} are."
   ]
  },
  {
   "cell_type": "code",
   "execution_count": 24,
   "id": "e8ae8a15",
   "metadata": {},
   "outputs": [
    {
     "name": "stdout",
     "output_type": "stream",
     "text": [
      "my name is arya and i am 34 years old!\n"
     ]
    }
   ],
   "source": [
    "age = 34\n",
    "text = \"my name is arya and i am {}\"\n",
    "print(text.format(age) + \" years old!\")"
   ]
  },
  {
   "cell_type": "code",
   "execution_count": 25,
   "id": "c2522674",
   "metadata": {},
   "outputs": [
    {
     "name": "stdout",
     "output_type": "stream",
     "text": [
      "I want 3 pieces of item 569 for 420 dollars a piece\n"
     ]
    }
   ],
   "source": [
    "quant = 3\n",
    "itemno = 569\n",
    "price = 420\n",
    "myorder = \"I want {} pieces of item {} for {} dollars\"\n",
    "print(myorder.format(quant,itemno,price) +\" a piece\")"
   ]
  },
  {
   "cell_type": "markdown",
   "id": "dd31fe64",
   "metadata": {},
   "source": [
    "## There is discription about List, Tuple, Set and Dictionaryand how it works. "
   ]
  },
  {
   "cell_type": "markdown",
   "id": "ec1a2bab",
   "metadata": {},
   "source": [
    "- List is a collection which is ordered and changeable. Allows duplicate members.\n",
    "- Tuple is a collection which is ordered and unchangeable. Allows duplicate members.\n",
    "- Set is a collection which is unordered and unindexed. No duplicate members.\n",
    "- Dictionary is a collection which is unordered, changeable and indexed. No duplicate members."
   ]
  },
  {
   "cell_type": "markdown",
   "id": "82f42c1d",
   "metadata": {},
   "source": [
    "# Lists"
   ]
  },
  {
   "cell_type": "code",
   "execution_count": 1,
   "id": "9361862d",
   "metadata": {},
   "outputs": [],
   "source": [
    "my_list = [\"apple\", \"banana\", \"cherry\"]"
   ]
  },
  {
   "cell_type": "code",
   "execution_count": 2,
   "id": "4cdb3ff4",
   "metadata": {},
   "outputs": [],
   "source": [
    "my_list1 = [\"apple\", \"banana\", [\"chiku\", \"orange\"]]"
   ]
  },
  {
   "cell_type": "code",
   "execution_count": 3,
   "id": "b9c98206",
   "metadata": {},
   "outputs": [
    {
     "name": "stdout",
     "output_type": "stream",
     "text": [
      "banana\n",
      "orange\n",
      "banana\n",
      "['banana']\n",
      "['banana', ['chiku', 'orange']]\n"
     ]
    }
   ],
   "source": [
    "print(my_list1[1])\n",
    "print(my_list1[2][1])\n",
    "print(my_list1[-2])  # negative indexing also posible\n",
    "print(my_list1[1:2]) # range of indices\n",
    "print(my_list1[1:3]) # end index not inclusive"
   ]
  },
  {
   "cell_type": "code",
   "execution_count": 4,
   "id": "a40f6ec6",
   "metadata": {},
   "outputs": [
    {
     "data": {
      "text/plain": [
       "['apple', 'blueberry', ['chiku', 'orange']]"
      ]
     },
     "execution_count": 4,
     "metadata": {},
     "output_type": "execute_result"
    }
   ],
   "source": [
    "# you can add the value giving indexing position\n",
    "my_list1[1] = \"blueberry\"\n",
    "my_list1"
   ]
  },
  {
   "cell_type": "code",
   "execution_count": null,
   "id": "2a9daa4b",
   "metadata": {},
   "outputs": [],
   "source": []
  },
  {
   "cell_type": "markdown",
   "id": "78794334",
   "metadata": {},
   "source": [
    "## Looping "
   ]
  },
  {
   "cell_type": "code",
   "execution_count": 12,
   "id": "96f73f7f",
   "metadata": {},
   "outputs": [
    {
     "name": "stdout",
     "output_type": "stream",
     "text": [
      "apple\n",
      "banana\n",
      "cherry\n"
     ]
    }
   ],
   "source": [
    "list1 = [\"apple\", \"banana\", \"cherry\"]\n",
    "for x in list1:\n",
    "    print(x)"
   ]
  },
  {
   "cell_type": "code",
   "execution_count": 13,
   "id": "fbd89676",
   "metadata": {},
   "outputs": [
    {
     "name": "stdout",
     "output_type": "stream",
     "text": [
      "APPLE\n",
      "BANANA\n",
      "CHERRY\n"
     ]
    }
   ],
   "source": [
    "for item in list1:\n",
    "    if isinstance(item,str): #if item is string, upper\n",
    "        print(item.upper())\n",
    "    elif isinstance(item,list): # if list, iterate, then upper\n",
    "        for x in item:\n",
    "            print(x.upper())"
   ]
  },
  {
   "cell_type": "markdown",
   "id": "7cd31e5a",
   "metadata": {},
   "source": [
    "## List methods"
   ]
  },
  {
   "cell_type": "markdown",
   "id": "680ebef8",
   "metadata": {},
   "source": [
    "### append\n",
    "\n",
    "adding item to end of the list"
   ]
  },
  {
   "cell_type": "code",
   "execution_count": 14,
   "id": "675fa1d3",
   "metadata": {},
   "outputs": [
    {
     "data": {
      "text/plain": [
       "['apple', 'banana', 'cherry', 'echo']"
      ]
     },
     "execution_count": 14,
     "metadata": {},
     "output_type": "execute_result"
    }
   ],
   "source": [
    "list1.append(\"echo\")\n",
    "list1"
   ]
  },
  {
   "cell_type": "markdown",
   "id": "3886e5fe",
   "metadata": {},
   "source": [
    "### insert\n",
    "\n",
    "index insertion"
   ]
  },
  {
   "cell_type": "code",
   "execution_count": 15,
   "id": "2e11f50c",
   "metadata": {},
   "outputs": [
    {
     "data": {
      "text/plain": [
       "['apple', 'index insertio', 'banana', 'cherry', 'echo']"
      ]
     },
     "execution_count": 15,
     "metadata": {},
     "output_type": "execute_result"
    }
   ],
   "source": [
    "list1.insert(1, \"index insertio\")\n",
    "list1"
   ]
  },
  {
   "cell_type": "code",
   "execution_count": 16,
   "id": "8706e0d0",
   "metadata": {},
   "outputs": [
    {
     "data": {
      "text/plain": [
       "['apple', 'index insertio', 'banana', 'cherry', 'Bye', 'echo']"
      ]
     },
     "execution_count": 16,
     "metadata": {},
     "output_type": "execute_result"
    }
   ],
   "source": [
    "list1.insert(4, \"Bye\")\n",
    "list1"
   ]
  },
  {
   "cell_type": "markdown",
   "id": "edc8bb38",
   "metadata": {},
   "source": [
    "### remove"
   ]
  },
  {
   "cell_type": "code",
   "execution_count": 17,
   "id": "6ef44721",
   "metadata": {},
   "outputs": [
    {
     "data": {
      "text/plain": [
       "['apple', 'index insertio', 'cherry', 'Bye', 'echo']"
      ]
     },
     "execution_count": 17,
     "metadata": {},
     "output_type": "execute_result"
    }
   ],
   "source": [
    "list1.remove(\"banana\")\n",
    "list1"
   ]
  },
  {
   "cell_type": "code",
   "execution_count": 18,
   "id": "f30c4c76",
   "metadata": {},
   "outputs": [
    {
     "data": {
      "text/plain": [
       "['apple', 'index insertio', 'cherry', 'echo']"
      ]
     },
     "execution_count": 18,
     "metadata": {},
     "output_type": "execute_result"
    }
   ],
   "source": [
    "list1.remove(\"Bye\")\n",
    "list1"
   ]
  },
  {
   "cell_type": "markdown",
   "id": "143459ba",
   "metadata": {},
   "source": [
    "### pop "
   ]
  },
  {
   "cell_type": "code",
   "execution_count": 19,
   "id": "b801b1ee",
   "metadata": {},
   "outputs": [
    {
     "data": {
      "text/plain": [
       "['apple', 'index insertio', 'cherry']"
      ]
     },
     "execution_count": 19,
     "metadata": {},
     "output_type": "execute_result"
    }
   ],
   "source": [
    "list1.pop()\n",
    "list1"
   ]
  },
  {
   "cell_type": "raw",
   "id": "6c3608be",
   "metadata": {},
   "source": [
    "del list1[0] #removes the element at index 0\n",
    "del list1 deletes entire list"
   ]
  },
  {
   "cell_type": "markdown",
   "id": "bc52751a",
   "metadata": {},
   "source": [
    "### clear"
   ]
  },
  {
   "cell_type": "code",
   "execution_count": 20,
   "id": "93265ce6",
   "metadata": {},
   "outputs": [],
   "source": [
    "# empties the list\n",
    "# list1.clear() "
   ]
  },
  {
   "cell_type": "markdown",
   "id": "6510fe9b",
   "metadata": {},
   "source": [
    "### copy"
   ]
  },
  {
   "cell_type": "code",
   "execution_count": 21,
   "id": "ccf86945",
   "metadata": {},
   "outputs": [
    {
     "data": {
      "text/plain": [
       "['apple', 'index insertio', 'cherry']"
      ]
     },
     "execution_count": 21,
     "metadata": {},
     "output_type": "execute_result"
    }
   ],
   "source": [
    "# list2 = list1 just creates a refrence prone to list1 changes\n",
    "list_new = list1.copy()\n",
    "list_new"
   ]
  },
  {
   "cell_type": "markdown",
   "id": "38f7d4d4",
   "metadata": {},
   "source": [
    "### extend"
   ]
  },
  {
   "cell_type": "code",
   "execution_count": 22,
   "id": "bd26a90e",
   "metadata": {},
   "outputs": [
    {
     "data": {
      "text/plain": [
       "['apple', 'index insertio', 'cherry', 1, 2, 3]"
      ]
     },
     "execution_count": 22,
     "metadata": {},
     "output_type": "execute_result"
    }
   ],
   "source": [
    "# To add elements from one list to another\n",
    "list1 = [1,2,3]\n",
    "list_new.extend(list1)\n",
    "list_new"
   ]
  },
  {
   "cell_type": "markdown",
   "id": "a5ff8a5b",
   "metadata": {},
   "source": [
    "__other list methods (https://www.w3schools.com/python/python_ref_list.asp)__"
   ]
  },
  {
   "cell_type": "markdown",
   "id": "9f705903",
   "metadata": {},
   "source": [
    "## Tuples"
   ]
  },
  {
   "cell_type": "markdown",
   "id": "113ce6d9",
   "metadata": {},
   "source": [
    "- tuples are ordered and **UNCHANGEABLE**"
   ]
  },
  {
   "cell_type": "markdown",
   "id": "1db8c5b1",
   "metadata": {},
   "source": [
    "following apply for tuples as lists:\n",
    "- ordering and accessng elements\n",
    "- indexing and negative indexing\n",
    "- slicing\n",
    "- looping \n",
    "- len and item checks\n",
    "- *del* for removing entire tuple\n",
    "- joining using + (t3 = t1+t2)"
   ]
  },
  {
   "cell_type": "markdown",
   "id": "9e6f6c17",
   "metadata": {},
   "source": [
    "### tuple methods"
   ]
  },
  {
   "cell_type": "code",
   "execution_count": 26,
   "id": "462f52b8",
   "metadata": {},
   "outputs": [],
   "source": [
    "tuple1 = (\"apple\", \"banana\", \"cherry\")\n",
    "tuple2 = (1, 5, 7, 9, 3)\n",
    "tuple3 = (True, False, False)"
   ]
  },
  {
   "cell_type": "code",
   "execution_count": 28,
   "id": "56489866",
   "metadata": {},
   "outputs": [
    {
     "data": {
      "text/plain": [
       "('apple', 'banana', 'cherry', 1, 5, 7, 9, 3)"
      ]
     },
     "execution_count": 28,
     "metadata": {},
     "output_type": "execute_result"
    }
   ],
   "source": [
    "t4 = tuple1 + tuple2\n",
    "t4"
   ]
  },
  {
   "cell_type": "raw",
   "id": "b5a649c5",
   "metadata": {},
   "source": [
    "# you can also access in tuple using index positions (positive, negetive)"
   ]
  },
  {
   "cell_type": "markdown",
   "id": "4997532e",
   "metadata": {},
   "source": [
    "### add items"
   ]
  },
  {
   "cell_type": "code",
   "execution_count": 32,
   "id": "d063bd48",
   "metadata": {},
   "outputs": [
    {
     "data": {
      "text/plain": [
       "['apple', 'banana', 'cherry', 'orange']"
      ]
     },
     "execution_count": 32,
     "metadata": {},
     "output_type": "execute_result"
    }
   ],
   "source": [
    "t_1 = (\"apple\", \"banana\", \"cherry\")\n",
    "y = list(t_1)\n",
    "y.append(\"orange\")\n",
    "t_1 = tuple(y)\n",
    "y"
   ]
  },
  {
   "cell_type": "markdown",
   "id": "a76c9234",
   "metadata": {},
   "source": [
    "### remove item"
   ]
  },
  {
   "cell_type": "code",
   "execution_count": 22,
   "id": "429ff313",
   "metadata": {},
   "outputs": [
    {
     "data": {
      "text/plain": [
       "['manthan', 'harsh', 'nilay']"
      ]
     },
     "execution_count": 22,
     "metadata": {},
     "output_type": "execute_result"
    }
   ],
   "source": [
    "t_2 = {\"manthan\", \"harsh\", \"nilay\", \"malay\"}\n",
    "x = list(t_2)\n",
    "x.remove(\"malay\")\n",
    "t_2 = tuple(x)\n",
    "x"
   ]
  },
  {
   "cell_type": "markdown",
   "id": "1b3e5209",
   "metadata": {},
   "source": [
    "### count"
   ]
  },
  {
   "cell_type": "code",
   "execution_count": null,
   "id": "fdc03618",
   "metadata": {},
   "outputs": [],
   "source": [
    "#returns the no. of times specified value occurs in tuple"
   ]
  },
  {
   "cell_type": "markdown",
   "id": "a5b11b8f",
   "metadata": {},
   "source": [
    "### index"
   ]
  },
  {
   "cell_type": "code",
   "execution_count": null,
   "id": "1fa438a5",
   "metadata": {},
   "outputs": [],
   "source": [
    "#searches the tuple for specified value and returns its index."
   ]
  },
  {
   "cell_type": "markdown",
   "id": "86db080b",
   "metadata": {},
   "source": [
    "# Sets"
   ]
  },
  {
   "cell_type": "markdown",
   "id": "f4cc688b",
   "metadata": {},
   "source": [
    "- A set is a collection which is **unordered** and **unindexed**.\n",
    "- Its items cannot be changed, but new items can be added.\n",
    "- Access is through looping, no index"
   ]
  },
  {
   "cell_type": "code",
   "execution_count": 23,
   "id": "c6ffddfc",
   "metadata": {},
   "outputs": [
    {
     "data": {
      "text/plain": [
       "{'apple', 'banana', 'cherry'}"
      ]
     },
     "execution_count": 23,
     "metadata": {},
     "output_type": "execute_result"
    }
   ],
   "source": [
    "myset = {\"apple\", \"banana\", \"cherry\"}\n",
    "myset"
   ]
  },
  {
   "cell_type": "code",
   "execution_count": 24,
   "id": "4937336f",
   "metadata": {},
   "outputs": [
    {
     "data": {
      "text/plain": [
       "{'blue', 'red', 'white'}"
      ]
     },
     "execution_count": 24,
     "metadata": {},
     "output_type": "execute_result"
    }
   ],
   "source": [
    "my_set = {\"red\", \"white\", \"blue\", \"red\"} # don't allows duplicate in output\n",
    "my_set"
   ]
  },
  {
   "cell_type": "code",
   "execution_count": 25,
   "id": "354ea084",
   "metadata": {},
   "outputs": [
    {
     "data": {
      "text/plain": [
       "{1, 2, 'apple', 'banana', 'cherry'}"
      ]
     },
     "execution_count": 25,
     "metadata": {},
     "output_type": "execute_result"
    }
   ],
   "source": [
    "# The values True and 1 are considered the same value in sets and also (false and 0 are same), and are treated as duplicates:\n",
    "set1 = {\"apple\", \"banana\", \"cherry\", 1, 2, True} \n",
    "set1"
   ]
  },
  {
   "cell_type": "markdown",
   "id": "9fbcd659",
   "metadata": {},
   "source": [
    "__set methods (https://www.w3schools.com/python/python_ref_set.asp)__"
   ]
  },
  {
   "cell_type": "markdown",
   "id": "a133af8d",
   "metadata": {},
   "source": [
    "## Dictionary"
   ]
  },
  {
   "cell_type": "markdown",
   "id": "8dd21ff2",
   "metadata": {},
   "source": [
    "- A dictionary is a collection which is **unordered**, **changeable** and **indexed**. In Python dictionaries are written with curly brackets, and they have keys and values."
   ]
  },
  {
   "cell_type": "code",
   "execution_count": 23,
   "id": "1d665289",
   "metadata": {},
   "outputs": [
    {
     "name": "stdout",
     "output_type": "stream",
     "text": [
      "{'brand': 'Ford', 'model': 'Mustang', 'year': 1964}\n"
     ]
    }
   ],
   "source": [
    "dict1 = {\n",
    "  \"brand\": \"Ford\",\n",
    "  \"model\": \"Mustang\",\n",
    "  \"year\": 1964\n",
    "}\n",
    "print(dict1)"
   ]
  },
  {
   "cell_type": "code",
   "execution_count": 24,
   "id": "7733f2bc",
   "metadata": {},
   "outputs": [
    {
     "name": "stdout",
     "output_type": "stream",
     "text": [
      "Mustang\n"
     ]
    }
   ],
   "source": [
    "print(dict1[\"model\"])"
   ]
  },
  {
   "cell_type": "code",
   "execution_count": 26,
   "id": "c6e7ab4f",
   "metadata": {},
   "outputs": [
    {
     "name": "stdout",
     "output_type": "stream",
     "text": [
      "1964\n"
     ]
    }
   ],
   "source": [
    "print(dict1[\"year\"])"
   ]
  },
  {
   "cell_type": "markdown",
   "id": "3fde1ebf",
   "metadata": {},
   "source": [
    "* Duplicates not allowed in dictionary but if you add duplicate with same key it takes second value in print"
   ]
  },
  {
   "cell_type": "code",
   "execution_count": 28,
   "id": "c6e4e1a7",
   "metadata": {},
   "outputs": [
    {
     "name": "stdout",
     "output_type": "stream",
     "text": [
      "{'brand': 'Ford', 'model': 'Mustang', 'year': 2001}\n"
     ]
    }
   ],
   "source": [
    "dict1 = {\n",
    "  \"brand\": \"Ford\",\n",
    "  \"model\": \"Mustang\",\n",
    "  \"year\": 1964,\n",
    "  \"year\": 2001\n",
    "}\n",
    "print(dict1)"
   ]
  },
  {
   "cell_type": "code",
   "execution_count": 29,
   "id": "a4001303",
   "metadata": {},
   "outputs": [
    {
     "name": "stdout",
     "output_type": "stream",
     "text": [
      "{'name': 'John', 'age': 36, 'country': 'Norway'}\n"
     ]
    }
   ],
   "source": [
    "# you can also create dictionary like this...\n",
    "dict_1 = dict(name = \"John\", age = 36, country = \"Norway\")\n",
    "print(dict_1)"
   ]
  },
  {
   "cell_type": "code",
   "execution_count": 31,
   "id": "bb7276a7",
   "metadata": {},
   "outputs": [
    {
     "data": {
      "text/plain": [
       "36"
      ]
     },
     "execution_count": 31,
     "metadata": {},
     "output_type": "execute_result"
    }
   ],
   "source": [
    "# you can also use get() method for access the dict items\n",
    "x = dict_1.get(\"age\")\n",
    "x"
   ]
  },
  {
   "cell_type": "code",
   "execution_count": 32,
   "id": "a2543b37",
   "metadata": {},
   "outputs": [],
   "source": [
    "# you can change the calue by referring to its key and use update() method :\n",
    "car = {\n",
    "  \"brand\": \"Ford\",\n",
    "  \"model\": \"Endeavour\",\n",
    "  \"year\": 1999\n",
    "}\n",
    "car[\"year\"] = 2018"
   ]
  },
  {
   "cell_type": "code",
   "execution_count": 33,
   "id": "16eb798a",
   "metadata": {},
   "outputs": [
    {
     "data": {
      "text/plain": [
       "{'brand': 'Ford', 'model': 'Endeavour', 'year': 2018}"
      ]
     },
     "execution_count": 33,
     "metadata": {},
     "output_type": "execute_result"
    }
   ],
   "source": [
    "car"
   ]
  },
  {
   "cell_type": "code",
   "execution_count": 34,
   "id": "3e044b5d",
   "metadata": {},
   "outputs": [
    {
     "data": {
      "text/plain": [
       "{'brand': 'Ford', 'model': 'Aspire', 'year': 2018}"
      ]
     },
     "execution_count": 34,
     "metadata": {},
     "output_type": "execute_result"
    }
   ],
   "source": [
    "car.update({\"model\": \"Aspire\"})\n",
    "car"
   ]
  },
  {
   "cell_type": "code",
   "execution_count": 35,
   "id": "840ebd17",
   "metadata": {},
   "outputs": [
    {
     "data": {
      "text/plain": [
       "{'brand': 'Ford', 'model': 'Aspire', 'year': 2018, 'owner': '1st'}"
      ]
     },
     "execution_count": 35,
     "metadata": {},
     "output_type": "execute_result"
    }
   ],
   "source": [
    "# update() method also use for adding key and value pairs\n",
    "car.update({\"owner\": \"1st\"})\n",
    "car"
   ]
  },
  {
   "cell_type": "raw",
   "id": "14c1fcf0",
   "metadata": {},
   "source": [
    "# For removig items in dictionay use :\n",
    "# pop() it is use for specific value\n",
    "# popitem()  it removes last inserted item\n",
    "# clear()  it is use for empties the dict"
   ]
  },
  {
   "cell_type": "code",
   "execution_count": 36,
   "id": "805d0051",
   "metadata": {},
   "outputs": [],
   "source": [
    "avengers = {\n",
    "  \"ironman\" : {\n",
    "    \"name\" : \"tony\",\n",
    "    \"year\" : 2004\n",
    "  },\n",
    "  \"cap america\" : {\n",
    "    \"name\" : \"steve\",\n",
    "    \"year\" : 2007\n",
    "  },\n",
    "  \"hulk\" : {\n",
    "    \"name\" : \"bruce\",\n",
    "    \"year\" : 2011\n",
    "  }\n",
    "}"
   ]
  },
  {
   "cell_type": "code",
   "execution_count": 37,
   "id": "1ada2e79",
   "metadata": {},
   "outputs": [
    {
     "data": {
      "text/plain": [
       "{'ironman': {'name': 'tony', 'year': 2004},\n",
       " 'cap america': {'name': 'steve', 'year': 2007},\n",
       " 'hulk': {'name': 'bruce', 'year': 2011}}"
      ]
     },
     "execution_count": 37,
     "metadata": {},
     "output_type": "execute_result"
    }
   ],
   "source": [
    "avengers"
   ]
  },
  {
   "cell_type": "code",
   "execution_count": 38,
   "id": "7839af62",
   "metadata": {},
   "outputs": [
    {
     "name": "stdout",
     "output_type": "stream",
     "text": [
      "ironman\n",
      "{'name': 'tony', 'year': 2004}\n",
      "tony\n",
      "cap america\n",
      "{'name': 'steve', 'year': 2007}\n",
      "steve\n",
      "hulk\n",
      "{'name': 'bruce', 'year': 2011}\n",
      "bruce\n"
     ]
    }
   ],
   "source": [
    "for x in avengers:\n",
    "    print(x) # prints all KEY names in dict\n",
    "    print(avengers[x]) #prints inner dict with key x\n",
    "    print(avengers[x][\"name\"]) #accessing level 2 VALUES"
   ]
  },
  {
   "cell_type": "markdown",
   "id": "088f9c49",
   "metadata": {},
   "source": [
    "### dict methods\n",
    "https://www.w3schools.com/python/python_ref_dictionary.asp"
   ]
  },
  {
   "cell_type": "markdown",
   "id": "581a1fbd",
   "metadata": {},
   "source": [
    "## Conditinals and Loops"
   ]
  },
  {
   "cell_type": "markdown",
   "id": "23ce2a75",
   "metadata": {},
   "source": [
    "### if- elif- else"
   ]
  },
  {
   "cell_type": "code",
   "execution_count": null,
   "id": "b464147f",
   "metadata": {},
   "outputs": [],
   "source": [
    "# if , else, elif have some indention levels"
   ]
  },
  {
   "cell_type": "code",
   "execution_count": 39,
   "id": "79f8746f",
   "metadata": {},
   "outputs": [
    {
     "name": "stdout",
     "output_type": "stream",
     "text": [
      "B\n"
     ]
    }
   ],
   "source": [
    "# shorthand if-else\n",
    "a,b = 10,19\n",
    "print(\"A\") if a>b else print(\"B\")"
   ]
  },
  {
   "cell_type": "code",
   "execution_count": 40,
   "id": "45ed452a",
   "metadata": {},
   "outputs": [
    {
     "name": "stdout",
     "output_type": "stream",
     "text": [
      "B\n"
     ]
    }
   ],
   "source": [
    "print(\"A\") if a>b else print(\"=\") if a==b else print(\"B\")"
   ]
  },
  {
   "cell_type": "code",
   "execution_count": 41,
   "id": "902158dd",
   "metadata": {},
   "outputs": [],
   "source": [
    "# \"and\", \"or\" can be used to combine conditions\n",
    "# if satements can't ne empty, but if needed, use \"pass\""
   ]
  },
  {
   "cell_type": "markdown",
   "id": "c89f4fba",
   "metadata": {},
   "source": [
    "### while"
   ]
  },
  {
   "cell_type": "raw",
   "id": "44312af2",
   "metadata": {},
   "source": [
    "To execute statements AS LONG AS a condition is true."
   ]
  },
  {
   "cell_type": "code",
   "execution_count": 42,
   "id": "e0c8032e",
   "metadata": {},
   "outputs": [
    {
     "name": "stdout",
     "output_type": "stream",
     "text": [
      "1\n",
      "2\n",
      "3\n"
     ]
    }
   ],
   "source": [
    "i = 1 \n",
    "while i<6:\n",
    "    print(i)\n",
    "    if i == 3:break\n",
    "    i += 1"
   ]
  },
  {
   "cell_type": "code",
   "execution_count": 55,
   "id": "4423b0d2",
   "metadata": {},
   "outputs": [
    {
     "name": "stdout",
     "output_type": "stream",
     "text": [
      "1\n",
      "2\n",
      "3\n",
      "4\n",
      "5\n",
      "6\n",
      "i is no longer less than \n"
     ]
    }
   ],
   "source": [
    "i = 1\n",
    "while i < 7:\n",
    "    print(i)\n",
    "    i = i+1\n",
    "    if i == 6 : continue\n",
    "else: print(\"i is no longer less than 6\")"
   ]
  },
  {
   "cell_type": "raw",
   "id": "c308f342",
   "metadata": {},
   "source": [
    "\"break\" is used to break loop even when while contidtion is true.\n",
    "\"continue\" can be used to stop the current iteration and continue with the next.\n",
    "\n",
    "\"else\" can be used to run a block when the condition no longer is true."
   ]
  },
  {
   "cell_type": "markdown",
   "id": "c0cdc697",
   "metadata": {},
   "source": [
    "### for"
   ]
  },
  {
   "cell_type": "markdown",
   "id": "6ff9a42e",
   "metadata": {},
   "source": [
    "* used to iterate over a swquence \n",
    "* can use \"continue\", \"break\" and \"pass\" and \"else\""
   ]
  },
  {
   "cell_type": "markdown",
   "id": "dcfc927b",
   "metadata": {},
   "source": [
    "### range function"
   ]
  },
  {
   "cell_type": "code",
   "execution_count": 56,
   "id": "2f1319c2",
   "metadata": {},
   "outputs": [
    {
     "name": "stdout",
     "output_type": "stream",
     "text": [
      "1\n",
      "2\n",
      "3\n",
      "4\n",
      "5\n",
      "6\n",
      "7\n",
      "8\n",
      "9\n"
     ]
    }
   ],
   "source": [
    "for i in range(1,10): print(i)"
   ]
  },
  {
   "cell_type": "code",
   "execution_count": 57,
   "id": "6369665a",
   "metadata": {},
   "outputs": [
    {
     "name": "stdout",
     "output_type": "stream",
     "text": [
      "2\n",
      "4\n",
      "6\n",
      "8\n"
     ]
    }
   ],
   "source": [
    "for i in range(2,10,2): print(i)"
   ]
  },
  {
   "cell_type": "markdown",
   "id": "e0311fe4",
   "metadata": {},
   "source": [
    "## Functions"
   ]
  },
  {
   "cell_type": "code",
   "execution_count": 58,
   "id": "3865d798",
   "metadata": {},
   "outputs": [
    {
     "name": "stdout",
     "output_type": "stream",
     "text": [
      "a 1 ['x,y,z']\n"
     ]
    }
   ],
   "source": [
    "def my_func(arg1,arg2,arg3):\n",
    "    print(arg1,arg2,arg3)\n",
    "my_func(\"a\",1,[\"x,y,z\"])"
   ]
  },
  {
   "cell_type": "markdown",
   "id": "92cb807d",
   "metadata": {},
   "source": [
    "### arguments"
   ]
  },
  {
   "cell_type": "markdown",
   "id": "bb8e52c6",
   "metadata": {},
   "source": [
    "- exact number of args are required in same order\n",
    "- any data type can be passed as argument, and will be treated as such by the function\n",
    "- arbitrary no. of args need \"*args\""
   ]
  },
  {
   "cell_type": "code",
   "execution_count": 59,
   "id": "4b6f4c93",
   "metadata": {},
   "outputs": [
    {
     "name": "stdout",
     "output_type": "stream",
     "text": [
      "(1, 2, 'x')\n"
     ]
    }
   ],
   "source": [
    "def show(*items):\n",
    "    print(items)\n",
    "show(1,2,\"x\") # function recieves a tuple of arguments"
   ]
  },
  {
   "cell_type": "markdown",
   "id": "0a6356af",
   "metadata": {},
   "source": [
    "### keyword arguments"
   ]
  },
  {
   "cell_type": "markdown",
   "id": "bdde2263",
   "metadata": {},
   "source": [
    "- arguments are in key=value form\n",
    "- hence oredering does not matter"
   ]
  },
  {
   "cell_type": "code",
   "execution_count": 60,
   "id": "fe93428f",
   "metadata": {},
   "outputs": [
    {
     "name": "stdout",
     "output_type": "stream",
     "text": [
      "8 10 22\n"
     ]
    }
   ],
   "source": [
    "def kwargs(arg1, arg2, arg3):\n",
    "    print(arg1, arg2, arg3)\n",
    "kwargs(arg2 = 10, arg1 = 8, arg3 = 22)"
   ]
  },
  {
   "cell_type": "markdown",
   "id": "65695786",
   "metadata": {},
   "source": [
    "- arbitrary kwargs need \"**kwargs\"\n",
    "- function will recieve a dictionary of arguments"
   ]
  },
  {
   "cell_type": "code",
   "execution_count": 61,
   "id": "6b168345",
   "metadata": {},
   "outputs": [
    {
     "name": "stdout",
     "output_type": "stream",
     "text": [
      "{'ironman': {'name': 'tony', 'year': 2004}, 'cap america': {'name': 'steve', 'year': 2007}, 'hulk': {'name': 'bruce', 'year': 2011}}\n",
      "tony\n",
      "steve\n",
      "bruce\n"
     ]
    }
   ],
   "source": [
    "def newfunc(**marvel):\n",
    "    print(marvel)\n",
    "    for i in marvel.values():\n",
    "        if isinstance(i,dict): print(i[\"name\"]) \n",
    "newfunc(**avengers) # \"**\" also required in function call"
   ]
  },
  {
   "cell_type": "markdown",
   "id": "3f0e39ab",
   "metadata": {},
   "source": [
    "### recursion"
   ]
  },
  {
   "cell_type": "code",
   "execution_count": 62,
   "id": "60a5b9dc",
   "metadata": {},
   "outputs": [
    {
     "name": "stdout",
     "output_type": "stream",
     "text": [
      "1\n",
      "3\n",
      "6\n",
      "10\n",
      "15\n"
     ]
    },
    {
     "data": {
      "text/plain": [
       "15"
      ]
     },
     "execution_count": 62,
     "metadata": {},
     "output_type": "execute_result"
    }
   ],
   "source": [
    "def recursion(k):\n",
    "    if k>0:\n",
    "        res = k + recursion(k-1)\n",
    "        print(res)\n",
    "    else:\n",
    "        res = 0\n",
    "    return res\n",
    "recursion(5)"
   ]
  },
  {
   "cell_type": "markdown",
   "id": "11820278",
   "metadata": {},
   "source": [
    "## Lambda"
   ]
  },
  {
   "cell_type": "markdown",
   "id": "1475158c",
   "metadata": {},
   "source": [
    "* it is a small anonymous function\n",
    "* takes any no. args but only one expression\n",
    "\n",
    "syntax: lambda args: expression"
   ]
  },
  {
   "cell_type": "code",
   "execution_count": 63,
   "id": "7cdc7821",
   "metadata": {},
   "outputs": [
    {
     "name": "stdout",
     "output_type": "stream",
     "text": [
      "70\n"
     ]
    },
    {
     "data": {
      "text/plain": [
       "24"
      ]
     },
     "execution_count": 63,
     "metadata": {},
     "output_type": "execute_result"
    }
   ],
   "source": [
    "x = lambda a : a+25 # created function referrenced by x\n",
    "print(x(45))\n",
    "y = lambda a,b,c : a*b*c\n",
    "y(2,3,4)"
   ]
  },
  {
   "cell_type": "code",
   "execution_count": 64,
   "id": "d0329b21",
   "metadata": {},
   "outputs": [
    {
     "name": "stdout",
     "output_type": "stream",
     "text": [
      "24\n",
      "132\n"
     ]
    }
   ],
   "source": [
    "def multiply(n):\n",
    "    return lambda x : x*n\n",
    "doubler = multiply(2) # multiplies by 2 \n",
    "tripler = multiply(3) # multiplies by 3\n",
    "print(doubler(12))\n",
    "print(tripler(44))"
   ]
  },
  {
   "cell_type": "code",
   "execution_count": null,
   "id": "058bf485",
   "metadata": {},
   "outputs": [],
   "source": []
  },
  {
   "cell_type": "code",
   "execution_count": null,
   "id": "a0f2a0d3",
   "metadata": {},
   "outputs": [],
   "source": []
  },
  {
   "cell_type": "code",
   "execution_count": null,
   "id": "d17f68fe",
   "metadata": {},
   "outputs": [],
   "source": []
  },
  {
   "cell_type": "code",
   "execution_count": null,
   "id": "5eb9de35",
   "metadata": {},
   "outputs": [],
   "source": []
  },
  {
   "cell_type": "code",
   "execution_count": null,
   "id": "e5bba419",
   "metadata": {},
   "outputs": [],
   "source": []
  },
  {
   "cell_type": "code",
   "execution_count": null,
   "id": "c607f75c",
   "metadata": {},
   "outputs": [],
   "source": []
  },
  {
   "cell_type": "code",
   "execution_count": null,
   "id": "4803661e",
   "metadata": {},
   "outputs": [],
   "source": []
  },
  {
   "cell_type": "code",
   "execution_count": null,
   "id": "fc2daaa8",
   "metadata": {},
   "outputs": [],
   "source": []
  }
 ],
 "metadata": {
  "kernelspec": {
   "display_name": "Python 3 (ipykernel)",
   "language": "python",
   "name": "python3"
  },
  "language_info": {
   "codemirror_mode": {
    "name": "ipython",
    "version": 3
   },
   "file_extension": ".py",
   "mimetype": "text/x-python",
   "name": "python",
   "nbconvert_exporter": "python",
   "pygments_lexer": "ipython3",
   "version": "3.10.9"
  }
 },
 "nbformat": 4,
 "nbformat_minor": 5
}
