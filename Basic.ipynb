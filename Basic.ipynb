{
 "cells": [
  {
   "cell_type": "markdown",
   "id": "5fc19984",
   "metadata": {},
   "source": [
    "# This is my first program"
   ]
  },
  {
   "cell_type": "code",
   "execution_count": 1,
   "id": "709d9252",
   "metadata": {},
   "outputs": [
    {
     "name": "stdout",
     "output_type": "stream",
     "text": [
      "Hello Python\n"
     ]
    }
   ],
   "source": [
    "print(\"Hello Python\")"
   ]
  },
  {
   "cell_type": "markdown",
   "id": "9c5432aa",
   "metadata": {},
   "source": [
    "* you can use (#, \"\"\"3 times double quotation\"\"\") for comment them."
   ]
  },
  {
   "cell_type": "markdown",
   "id": "67d48379",
   "metadata": {},
   "source": [
    "# Variable \n"
   ]
  },
  {
   "cell_type": "markdown",
   "id": "8a291114",
   "metadata": {},
   "source": [
    "* variable name must start with a letter or the underscore, it cannot start with a number."
   ]
  },
  {
   "cell_type": "code",
   "execution_count": 2,
   "id": "b1fff8eb",
   "metadata": {},
   "outputs": [],
   "source": [
    "age = 11\n",
    "_height = 175"
   ]
  },
  {
   "cell_type": "code",
   "execution_count": 3,
   "id": "0d8093c9",
   "metadata": {},
   "outputs": [
    {
     "data": {
      "text/plain": [
       "11"
      ]
     },
     "execution_count": 3,
     "metadata": {},
     "output_type": "execute_result"
    }
   ],
   "source": [
    "age"
   ]
  },
  {
   "cell_type": "code",
   "execution_count": 4,
   "id": "0b131240",
   "metadata": {},
   "outputs": [
    {
     "data": {
      "text/plain": [
       "175"
      ]
     },
     "execution_count": 4,
     "metadata": {},
     "output_type": "execute_result"
    }
   ],
   "source": [
    "_height"
   ]
  },
  {
   "cell_type": "code",
   "execution_count": 5,
   "id": "5276c05e",
   "metadata": {},
   "outputs": [
    {
     "ename": "SyntaxError",
     "evalue": "invalid decimal literal (2435277620.py, line 1)",
     "output_type": "error",
     "traceback": [
      "\u001b[1;36m  Cell \u001b[1;32mIn[5], line 1\u001b[1;36m\u001b[0m\n\u001b[1;33m    2myname = \"john\"  # SyntaxError: invalid syntax\u001b[0m\n\u001b[1;37m    ^\u001b[0m\n\u001b[1;31mSyntaxError\u001b[0m\u001b[1;31m:\u001b[0m invalid decimal literal\n"
     ]
    }
   ],
   "source": [
    "2myname = \"john\"  # It gives syntax error"
   ]
  },
  {
   "cell_type": "code",
   "execution_count": 6,
   "id": "d1ca5366",
   "metadata": {},
   "outputs": [],
   "source": [
    "x = 4\n",
    "y = \"Yash\""
   ]
  },
  {
   "cell_type": "code",
   "execution_count": 7,
   "id": "7fdafee5",
   "metadata": {},
   "outputs": [
    {
     "name": "stdout",
     "output_type": "stream",
     "text": [
      "4\n"
     ]
    }
   ],
   "source": [
    "print(x)"
   ]
  },
  {
   "cell_type": "code",
   "execution_count": 8,
   "id": "efa869e2",
   "metadata": {},
   "outputs": [
    {
     "name": "stdout",
     "output_type": "stream",
     "text": [
      "Yash\n"
     ]
    }
   ],
   "source": [
    "print(y)"
   ]
  },
  {
   "cell_type": "code",
   "execution_count": 9,
   "id": "800a57d3",
   "metadata": {},
   "outputs": [
    {
     "ename": "TypeError",
     "evalue": "unsupported operand type(s) for +: 'int' and 'str'",
     "output_type": "error",
     "traceback": [
      "\u001b[1;31m---------------------------------------------------------------------------\u001b[0m",
      "\u001b[1;31mTypeError\u001b[0m                                 Traceback (most recent call last)",
      "Cell \u001b[1;32mIn[9], line 1\u001b[0m\n\u001b[1;32m----> 1\u001b[0m \u001b[38;5;28mprint\u001b[39m(\u001b[43mx\u001b[49m\u001b[43m \u001b[49m\u001b[38;5;241;43m+\u001b[39;49m\u001b[43m \u001b[49m\u001b[43my\u001b[49m)\n",
      "\u001b[1;31mTypeError\u001b[0m: unsupported operand type(s) for +: 'int' and 'str'"
     ]
    }
   ],
   "source": [
    "print(x + y)  # Type error"
   ]
  },
  {
   "cell_type": "markdown",
   "id": "c6c53b24",
   "metadata": {},
   "source": [
    "## Assign maltiple values to defferent variables"
   ]
  },
  {
   "cell_type": "code",
   "execution_count": 26,
   "id": "1a1125cb",
   "metadata": {},
   "outputs": [
    {
     "name": "stdout",
     "output_type": "stream",
     "text": [
      "Orange\n",
      "Banana\n",
      "Cherry\n"
     ]
    }
   ],
   "source": [
    "x, y, z = \"Orange\", \"Banana\", \"Cherry\"\n",
    "print(x)\n",
    "print(y)\n",
    "print(z)"
   ]
  },
  {
   "cell_type": "raw",
   "id": "f8cf2887",
   "metadata": {},
   "source": [
    "You can also give one value for multiple variable"
   ]
  },
  {
   "cell_type": "code",
   "execution_count": 27,
   "id": "dd7cfb14",
   "metadata": {},
   "outputs": [
    {
     "name": "stdout",
     "output_type": "stream",
     "text": [
      "Orange\n",
      "Orange\n",
      "Orange\n"
     ]
    }
   ],
   "source": [
    "x = y = z = \"Orange\"\n",
    "print(x)\n",
    "print(y)\n",
    "print(z)"
   ]
  },
  {
   "cell_type": "code",
   "execution_count": 28,
   "id": "274d734c",
   "metadata": {},
   "outputs": [
    {
     "name": "stdout",
     "output_type": "stream",
     "text": [
      "apple\n",
      "banana\n",
      "cherry\n"
     ]
    }
   ],
   "source": [
    "fruits = [\"apple\", \"banana\", \"cherry\"]\n",
    "x, y, z = fruits\n",
    "print(x)\n",
    "print(y)\n",
    "print(z)"
   ]
  },
  {
   "cell_type": "code",
   "execution_count": null,
   "id": "057eef4c",
   "metadata": {},
   "outputs": [],
   "source": []
  },
  {
   "cell_type": "raw",
   "id": "20c22e38",
   "metadata": {},
   "source": [
    "use \"global\" keyword to define global variable inside a function."
   ]
  },
  {
   "cell_type": "code",
   "execution_count": 29,
   "id": "b8571aff",
   "metadata": {},
   "outputs": [
    {
     "data": {
      "text/plain": [
       "'python is amazing'"
      ]
     },
     "execution_count": 29,
     "metadata": {},
     "output_type": "execute_result"
    }
   ],
   "source": [
    "def my_func():\n",
    "    global x\n",
    "    x= \"amazing\"\n",
    "my_func()\n",
    "\"python is \" + x"
   ]
  },
  {
   "cell_type": "raw",
   "id": "912b60ee",
   "metadata": {},
   "source": [
    "you can also assign \"global\" variable outside the funcation and use it."
   ]
  },
  {
   "cell_type": "code",
   "execution_count": 31,
   "id": "4b67794c",
   "metadata": {},
   "outputs": [
    {
     "name": "stdout",
     "output_type": "stream",
     "text": [
      "Python is awesome\n",
      "GOT is awesome\n"
     ]
    }
   ],
   "source": [
    "x = \"awesome\"\n",
    "\n",
    "def my_fun():\n",
    "    print(\"Python is \" + x )\n",
    "    \n",
    "my_fun()\n",
    "\n",
    "print(\"GOT is \" + x)"
   ]
  },
  {
   "cell_type": "markdown",
   "id": "fa965208",
   "metadata": {},
   "source": [
    "## Data Types "
   ]
  },
  {
   "cell_type": "raw",
   "id": "06c21c54",
   "metadata": {},
   "source": [
    "Text Type:\tstr\n",
    "Numeric Types:\tint, float, complex\n",
    "Sequence Types:\tlist, tuple, range\n",
    "Mapping Type:\tdict\n",
    "Set Types:\tset, frozenset\n",
    "Boolean Type:\tbool\n",
    "Binary Types:\tbytes, bytearray, memoryview"
   ]
  },
  {
   "cell_type": "code",
   "execution_count": 32,
   "id": "87a30aef",
   "metadata": {},
   "outputs": [],
   "source": [
    "a = {\"name\" : \"Jimmy\", \"age\" : 35}  # Dict\n",
    "b = {\"apple\", \"banana\", \"cherry\"}   # set\n",
    "c = frozenset({\"apple\", \"banana\", \"cherry\"})  # frozenset"
   ]
  },
  {
   "cell_type": "code",
   "execution_count": 33,
   "id": "e1e2d0bd",
   "metadata": {},
   "outputs": [
    {
     "name": "stdout",
     "output_type": "stream",
     "text": [
      "{'name': 'Jimmy', 'age': 35}\n"
     ]
    }
   ],
   "source": [
    "print(a)"
   ]
  },
  {
   "cell_type": "code",
   "execution_count": 34,
   "id": "43568226",
   "metadata": {},
   "outputs": [],
   "source": [
    "d = list((\"apple\",\"banana\",\"cherry\"))\n",
    "e = dict(name=\"john\",age =37)"
   ]
  },
  {
   "cell_type": "code",
   "execution_count": 35,
   "id": "edb94ea8",
   "metadata": {},
   "outputs": [
    {
     "data": {
      "text/plain": [
       "{'name': 'john', 'age': 37}"
      ]
     },
     "execution_count": 35,
     "metadata": {},
     "output_type": "execute_result"
    }
   ],
   "source": [
    "e"
   ]
  },
  {
   "cell_type": "code",
   "execution_count": 36,
   "id": "7004a098",
   "metadata": {},
   "outputs": [
    {
     "name": "stdout",
     "output_type": "stream",
     "text": [
      "44\n"
     ]
    }
   ],
   "source": [
    "# Generating random number b/w 1,50\n",
    "import random \n",
    "print(random.randint(1,50))"
   ]
  },
  {
   "cell_type": "code",
   "execution_count": null,
   "id": "11595718",
   "metadata": {},
   "outputs": [],
   "source": []
  },
  {
   "cell_type": "markdown",
   "id": "3a255289",
   "metadata": {},
   "source": [
    "## Type Casting"
   ]
  },
  {
   "cell_type": "code",
   "execution_count": null,
   "id": "43e18bcb",
   "metadata": {},
   "outputs": [],
   "source": [
    "f = int(2.8) # f = 2\n",
    "g = int(\"3\") # g = 3\n",
    "h = float(1) # h = 1.0\n",
    "i = str(\"2.0\") # i = \"2.0\""
   ]
  },
  {
   "cell_type": "code",
   "execution_count": null,
   "id": "5efbe9c9",
   "metadata": {},
   "outputs": [],
   "source": [
    "# you can change and know the data type using \n",
    "print(type())\n",
    "print(int(3.0))"
   ]
  },
  {
   "cell_type": "markdown",
   "id": "808da558",
   "metadata": {},
   "source": [
    "# Strings"
   ]
  },
  {
   "cell_type": "raw",
   "id": "16578950",
   "metadata": {},
   "source": [
    "Strings are arrays.\n",
    "python does not have a char type, every character is simply a string of length 1."
   ]
  },
  {
   "cell_type": "code",
   "execution_count": 10,
   "id": "e1cdf9ac",
   "metadata": {},
   "outputs": [
    {
     "name": "stdout",
     "output_type": "stream",
     "text": [
      "Hii\n",
      "Gorss Gott\n"
     ]
    }
   ],
   "source": [
    "# you can also use print() \n",
    "print('Hii')\n",
    "print(\"Gorss Gott\")"
   ]
  },
  {
   "cell_type": "code",
   "execution_count": 11,
   "id": "72bb25d2",
   "metadata": {},
   "outputs": [
    {
     "name": "stdout",
     "output_type": "stream",
     "text": [
      "h\n"
     ]
    }
   ],
   "source": [
    "my_str = \"python is fun\"\n",
    "print(my_str[3])"
   ]
  },
  {
   "cell_type": "raw",
   "id": "9ab65b8e",
   "metadata": {},
   "source": [
    "string slices must be integers."
   ]
  },
  {
   "cell_type": "markdown",
   "id": "26ccce46",
   "metadata": {},
   "source": [
    "# Slicing"
   ]
  },
  {
   "cell_type": "code",
   "execution_count": 12,
   "id": "941b0b74",
   "metadata": {},
   "outputs": [
    {
     "name": "stdout",
     "output_type": "stream",
     "text": [
      "thon \n"
     ]
    }
   ],
   "source": [
    "print(my_str[2:7]) # last index not included and negetive indexing also possible."
   ]
  },
  {
   "cell_type": "markdown",
   "id": "20b0f772",
   "metadata": {},
   "source": [
    "### String methods\n",
    "reference https://www.w3schools.com/python/python_ref_string.asp"
   ]
  },
  {
   "cell_type": "markdown",
   "id": "6e81a53c",
   "metadata": {},
   "source": [
    "###  upper"
   ]
  },
  {
   "cell_type": "code",
   "execution_count": 13,
   "id": "f2c62735",
   "metadata": {},
   "outputs": [
    {
     "name": "stdout",
     "output_type": "stream",
     "text": [
      "HELLO, PYTHON\n"
     ]
    }
   ],
   "source": [
    "a = \"Hello, Python\"\n",
    "print(a.upper())"
   ]
  },
  {
   "cell_type": "markdown",
   "id": "89b2a702",
   "metadata": {},
   "source": [
    "### lower"
   ]
  },
  {
   "cell_type": "code",
   "execution_count": 14,
   "id": "59cd94be",
   "metadata": {},
   "outputs": [
    {
     "name": "stdout",
     "output_type": "stream",
     "text": [
      "hello, python\n"
     ]
    }
   ],
   "source": [
    "print(a.lower())"
   ]
  },
  {
   "cell_type": "markdown",
   "id": "fd071487",
   "metadata": {},
   "source": [
    "### strip"
   ]
  },
  {
   "cell_type": "code",
   "execution_count": 16,
   "id": "942ca80b",
   "metadata": {},
   "outputs": [
    {
     "name": "stdout",
     "output_type": "stream",
     "text": [
      "hello\n"
     ]
    }
   ],
   "source": [
    "print(\" hello \".strip())  # it removes all white space"
   ]
  },
  {
   "cell_type": "markdown",
   "id": "ce824a58",
   "metadata": {},
   "source": [
    "### replace"
   ]
  },
  {
   "cell_type": "code",
   "execution_count": 17,
   "id": "7ade23b4",
   "metadata": {},
   "outputs": [
    {
     "name": "stdout",
     "output_type": "stream",
     "text": [
      "jello\n"
     ]
    }
   ],
   "source": [
    "print(\"hello\".replace(\"h\",\"j\"))"
   ]
  },
  {
   "cell_type": "markdown",
   "id": "9e98c8af",
   "metadata": {},
   "source": [
    "### split"
   ]
  },
  {
   "cell_type": "raw",
   "id": "3f9e7f1c",
   "metadata": {},
   "source": [
    "The split() method returns a list where the text between the specified separator becomes the list items"
   ]
  },
  {
   "cell_type": "code",
   "execution_count": 18,
   "id": "75280b22",
   "metadata": {},
   "outputs": [
    {
     "name": "stdout",
     "output_type": "stream",
     "text": [
      "['Hello', ' world!']\n"
     ]
    }
   ],
   "source": [
    "a = \"Hello, world!\"\n",
    "print(a.split(\",\"))"
   ]
  },
  {
   "cell_type": "code",
   "execution_count": 19,
   "id": "c2b31892",
   "metadata": {},
   "outputs": [
    {
     "name": "stdout",
     "output_type": "stream",
     "text": [
      "['Hello,', 'world!']\n"
     ]
    }
   ],
   "source": [
    "print(a.split(\" \"))"
   ]
  },
  {
   "cell_type": "markdown",
   "id": "aa934433",
   "metadata": {},
   "source": [
    "## Checking string"
   ]
  },
  {
   "cell_type": "code",
   "execution_count": 21,
   "id": "2a30609c",
   "metadata": {},
   "outputs": [
    {
     "name": "stdout",
     "output_type": "stream",
     "text": [
      "True\n",
      "it is amazing series\n"
     ]
    }
   ],
   "source": [
    "text = \"Game of throns is very big series\"\n",
    "print(\"very\" in text)  # you can also give variable for check and than print and it also boolean and whitespace sensitive\n",
    "if \"Game\" in text : print(\"it is amazing series\")"
   ]
  },
  {
   "cell_type": "markdown",
   "id": "5bafb0f9",
   "metadata": {},
   "source": [
    "## Concatenation"
   ]
  },
  {
   "cell_type": "code",
   "execution_count": 22,
   "id": "696352e1",
   "metadata": {},
   "outputs": [
    {
     "name": "stdout",
     "output_type": "stream",
     "text": [
      "Hello, world!i am Yatharth\n"
     ]
    }
   ],
   "source": [
    "print(a + \"i am Yatharth\")"
   ]
  },
  {
   "cell_type": "markdown",
   "id": "bc6a63ad",
   "metadata": {},
   "source": [
    "## String formating"
   ]
  },
  {
   "cell_type": "raw",
   "id": "76ebe79a",
   "metadata": {},
   "source": [
    "The format() string method takes the passed arguments, formats them, and places them in the string where the placeholders {} are."
   ]
  },
  {
   "cell_type": "code",
   "execution_count": 24,
   "id": "e8ae8a15",
   "metadata": {},
   "outputs": [
    {
     "name": "stdout",
     "output_type": "stream",
     "text": [
      "my name is arya and i am 34 years old!\n"
     ]
    }
   ],
   "source": [
    "age = 34\n",
    "text = \"my name is arya and i am {}\"\n",
    "print(text.format(age) + \" years old!\")"
   ]
  },
  {
   "cell_type": "code",
   "execution_count": 25,
   "id": "c2522674",
   "metadata": {},
   "outputs": [
    {
     "name": "stdout",
     "output_type": "stream",
     "text": [
      "I want 3 pieces of item 569 for 420 dollars a piece\n"
     ]
    }
   ],
   "source": [
    "quant = 3\n",
    "itemno = 569\n",
    "price = 420\n",
    "myorder = \"I want {} pieces of item {} for {} dollars\"\n",
    "print(myorder.format(quant,itemno,price) +\" a piece\")"
   ]
  },
  {
   "cell_type": "code",
   "execution_count": null,
   "id": "21b5411e",
   "metadata": {},
   "outputs": [],
   "source": []
  },
  {
   "cell_type": "code",
   "execution_count": null,
   "id": "50158817",
   "metadata": {},
   "outputs": [],
   "source": []
  },
  {
   "cell_type": "code",
   "execution_count": null,
   "id": "04f24c16",
   "metadata": {},
   "outputs": [],
   "source": []
  },
  {
   "cell_type": "code",
   "execution_count": null,
   "id": "9361862d",
   "metadata": {},
   "outputs": [],
   "source": []
  },
  {
   "cell_type": "code",
   "execution_count": null,
   "id": "bc8de8ce",
   "metadata": {},
   "outputs": [],
   "source": []
  },
  {
   "cell_type": "code",
   "execution_count": null,
   "id": "675fa1d3",
   "metadata": {},
   "outputs": [],
   "source": []
  },
  {
   "cell_type": "code",
   "execution_count": null,
   "id": "ea79485c",
   "metadata": {},
   "outputs": [],
   "source": []
  },
  {
   "cell_type": "code",
   "execution_count": null,
   "id": "242aecbe",
   "metadata": {},
   "outputs": [],
   "source": []
  },
  {
   "cell_type": "code",
   "execution_count": null,
   "id": "b801b1ee",
   "metadata": {},
   "outputs": [],
   "source": []
  },
  {
   "cell_type": "code",
   "execution_count": null,
   "id": "8a7af913",
   "metadata": {},
   "outputs": [],
   "source": []
  },
  {
   "cell_type": "code",
   "execution_count": null,
   "id": "3064eb6b",
   "metadata": {},
   "outputs": [],
   "source": []
  },
  {
   "cell_type": "code",
   "execution_count": null,
   "id": "16eb798a",
   "metadata": {},
   "outputs": [],
   "source": []
  }
 ],
 "metadata": {
  "kernelspec": {
   "display_name": "Python 3 (ipykernel)",
   "language": "python",
   "name": "python3"
  },
  "language_info": {
   "codemirror_mode": {
    "name": "ipython",
    "version": 3
   },
   "file_extension": ".py",
   "mimetype": "text/x-python",
   "name": "python",
   "nbconvert_exporter": "python",
   "pygments_lexer": "ipython3",
   "version": "3.10.9"
  }
 },
 "nbformat": 4,
 "nbformat_minor": 5
}
